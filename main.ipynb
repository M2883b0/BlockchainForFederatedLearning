{
 "cells": [
  {
   "metadata": {},
   "cell_type": "markdown",
   "source": "# 实验配置\n",
   "id": "7d14ea47d902f9ea"
  },
  {
   "metadata": {
    "jupyter": {
     "is_executing": true
    }
   },
   "cell_type": "code",
   "source": "!python miner.py -g 1 -l 2",
   "id": "5dcf5939c22cca2a",
   "outputs": [],
   "execution_count": null
  },
  {
   "metadata": {},
   "cell_type": "code",
   "outputs": [],
   "execution_count": null,
   "source": [
    "!python client.py -d data/federated_data_0.d\n",
    "!python client.py -d data/federated_data_1.d"
   ],
   "id": "b67145b999522848"
  }
 ],
 "metadata": {
  "kernelspec": {
   "display_name": "Python 3",
   "language": "python",
   "name": "python3"
  },
  "language_info": {
   "codemirror_mode": {
    "name": "ipython",
    "version": 2
   },
   "file_extension": ".py",
   "mimetype": "text/x-python",
   "name": "python",
   "nbconvert_exporter": "python",
   "pygments_lexer": "ipython2",
   "version": "2.7.6"
  }
 },
 "nbformat": 4,
 "nbformat_minor": 5
}
