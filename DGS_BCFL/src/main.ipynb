{
 "cells": [
  {
   "cell_type": "markdown",
   "id": "3669bd01a5917bdc",
   "metadata": {},
   "source": [
    "# 实验参数设置"
   ]
  },
  {
   "cell_type": "code",
   "id": "7f18203619aad6d2",
   "metadata": {
    "ExecuteTime": {
     "end_time": "2025-10-22T11:37:57.134996Z",
     "start_time": "2025-10-22T11:37:54.748440Z"
    }
   },
   "source": [
    "from FederatedLearning.learner import CNNModel\n",
    "\n",
    "clients_num = 10 # 客户端总数\n",
    "rotation_cycle = 5 # 角色轮换间隔轮数\n",
    "max_round = 20 # 联邦学习轮数\n",
    "learning_rate = 0.01\n",
    "model_class = CNNModel # 选用CNN模型"
   ],
   "outputs": [],
   "execution_count": 1
  },
  {
   "cell_type": "markdown",
   "id": "fb7d212d764cf11b",
   "metadata": {},
   "source": "## 数据切分"
  },
  {
   "cell_type": "code",
   "id": "81b159c39888d4b8",
   "metadata": {
    "ExecuteTime": {
     "end_time": "2025-10-22T11:37:57.239250Z",
     "start_time": "2025-10-22T11:37:57.148382Z"
    }
   },
   "source": [
    "import data_split\n",
    "# 使用data_split模块中的函数获取PyTorch数据集\n",
    "train_dataset = data_split.get_mnist_pytorch_dataset(train=True)\n",
    "test_dataset = data_split.get_mnist_pytorch_dataset(train=False)\n",
    "# test\n",
    "# 使用正确的数据集对象创建数据加载器\n",
    "client_dataloaders = data_split.create_client_dataloaders(train_dataset, clients_num // 2, 64, num_workers=clients_num) * 2\n",
    "client_test_loader = data_split.create_client_dataloaders(test_dataset, clients_num // 2, 64) * 2"
   ],
   "outputs": [
    {
     "name": "stderr",
     "output_type": "stream",
     "text": [
      "2025-10-22 19:37:57,227 - DGS_BCFL - INFO - \n",
      "切分5份数据集...\n",
      "2025-10-22 19:37:57,229 - DGS_BCFL - INFO -  1 数据准备完成，样本数: 12000\n",
      "2025-10-22 19:37:57,230 - DGS_BCFL - INFO -  2 数据准备完成，样本数: 12000\n",
      "2025-10-22 19:37:57,232 - DGS_BCFL - INFO -  3 数据准备完成，样本数: 12000\n",
      "2025-10-22 19:37:57,233 - DGS_BCFL - INFO -  4 数据准备完成，样本数: 12000\n",
      "2025-10-22 19:37:57,234 - DGS_BCFL - INFO -  5 数据准备完成，样本数: 12000\n",
      "2025-10-22 19:37:57,235 - DGS_BCFL - INFO - \n",
      "切分5份数据集...\n",
      "2025-10-22 19:37:57,235 - DGS_BCFL - INFO -  1 数据准备完成，样本数: 2000\n",
      "2025-10-22 19:37:57,236 - DGS_BCFL - INFO -  2 数据准备完成，样本数: 2000\n",
      "2025-10-22 19:37:57,236 - DGS_BCFL - INFO -  3 数据准备完成，样本数: 2000\n",
      "2025-10-22 19:37:57,237 - DGS_BCFL - INFO -  4 数据准备完成，样本数: 2000\n",
      "2025-10-22 19:37:57,237 - DGS_BCFL - INFO -  5 数据准备完成，样本数: 2000\n"
     ]
    }
   ],
   "execution_count": 2
  },
  {
   "cell_type": "markdown",
   "id": "119b680f144592a6",
   "metadata": {},
   "source": [
    "## 开始训练"
   ]
  },
  {
   "metadata": {
    "jupyter": {
     "is_executing": true
    }
   },
   "cell_type": "code",
   "source": [
    "from owner import Owner\n",
    "from client import Client\n",
    "    \n",
    "    \n",
    "# 初始化管理者，并获得初始化字典\n",
    "owner = Owner(rotation_cycle=1, model_class=model_class)\n",
    "main_dict = owner.get_main_dict()\n",
    "\n",
    "# 初始化客户端以及身份\n",
    "clients = [owner]\n",
    "for i in range(clients_num):\n",
    "    client_name = f\"client_{i + 1}\"\n",
    "    client = Client(epochs=2, client_name=client_name, data_loader=client_dataloaders[i],\n",
    "                    test_loader=client_test_loader[i], ModelClass=model_class, main_dict=main_dict, learning_rate=learning_rate)\n",
    "    owner.join(client_name)\n",
    "    clients.append(client)\n",
    "\n",
    "import threading\n",
    "\n",
    "for _ in range(max_round):\n",
    "    t = [threading.Thread(target=client.run) for client in clients]\n",
    "    _ = [i.start() for i in t]\n",
    "    _ = [i.join() for i in t]\n",
    "\n",
    "    \n",
    "\n",
    "\n",
    "# 保存实验过程和结果\n",
    "import pickle\n",
    "with open(\"main_dict.pkl\", \"wb\") as f:\n",
    "    pickle.dump(main_dict, f)"
   ],
   "id": "5fde5c3489751dc2",
   "execution_count": null,
   "outputs": [
    {
     "name": "stderr",
     "output_type": "stream",
     "text": [
      "2025-10-22 19:44:17,060 - DGS_BCFL - INFO - [client_2] 当前轮次角色: aggregator\n",
      "2025-10-22 19:44:17,061 - DGS_BCFL - INFO - [client_3] 当前轮次角色: validator\n",
      "2025-10-22 19:44:17,064 - DGS_BCFL - INFO - [client_4] 当前轮次角色: validator\n",
      "2025-10-22 19:44:17,066 - DGS_BCFL - INFO - [client_5] 当前轮次角色: validator\n",
      "2025-10-22 19:44:17,069 - DGS_BCFL - INFO - [client_6] 当前轮次角色: learner\n",
      "2025-10-22 19:44:17,070 - DGS_BCFL - INFO - [client_7] 当前轮次角色: learner\n",
      "2025-10-22 19:44:17,073 - DGS_BCFL - INFO - [client_8] 当前轮次角色: learner\n",
      "2025-10-22 19:44:17,077 - DGS_BCFL - INFO - FederatedLearner使用设备: cuda\n",
      "2025-10-22 19:44:17,077 - DGS_BCFL - INFO - [client_9] 当前轮次角色: learner\n",
      "2025-10-22 19:44:17,078 - DGS_BCFL - INFO - [client_10] 当前轮次角色: learner\n",
      "2025-10-22 19:44:17,089 - DGS_BCFL - INFO - [client_3] 验证者初始化...\n",
      "2025-10-22 19:44:17,091 - DGS_BCFL - INFO - Aggregator使用设备: cuda\n",
      "2025-10-22 19:44:17,098 - DGS_BCFL - INFO - [client_4] 验证者初始化...\n",
      "2025-10-22 19:44:17,105 - DGS_BCFL - INFO - FederatedLearner使用设备: cuda\n",
      "2025-10-22 19:44:17,109 - DGS_BCFL - INFO - [client_5] 验证者初始化...\n",
      "2025-10-22 19:44:17,114 - DGS_BCFL - INFO - [client_2] 聚合者开始收集梯度...\n",
      "2025-10-22 19:44:17,116 - DGS_BCFL - INFO - FederatedLearner使用设备: cuda\n",
      "2025-10-22 19:44:17,119 - DGS_BCFL - INFO - [client_1] 学习者开始本地训练...\n",
      "2025-10-22 19:44:17,124 - DGS_BCFL - INFO - FederatedLearner使用设备: cuda\n",
      "2025-10-22 19:44:17,126 - DGS_BCFL - INFO - FederatedLearner使用设备: cuda\n",
      "2025-10-22 19:44:17,130 - DGS_BCFL - INFO - FederatedLearner使用设备: cuda\n",
      "2025-10-22 19:44:17,179 - DGS_BCFL - INFO - [client_6] 学习者开始本地训练...\n",
      "2025-10-22 19:44:17,450 - DGS_BCFL - INFO - [client_7] 学习者开始本地训练...\n",
      "2025-10-22 19:44:17,538 - DGS_BCFL - INFO - [client_8] 学习者开始本地训练...\n",
      "2025-10-22 19:44:17,564 - DGS_BCFL - INFO - [client_10] 学习者开始本地训练...\n",
      "2025-10-22 19:44:17,595 - DGS_BCFL - INFO - [client_9] 学习者开始本地训练...\n",
      "2025-10-22 19:44:17,130 - DGS_BCFL - INFO - FederatedLearner使用设备: cuda\n",
      "2025-10-22 19:44:17,126 - DGS_BCFL - INFO - FederatedLearner使用设备: cuda\n",
      "2025-10-22 19:44:17,564 - DGS_BCFL - INFO - [client_10] 学习者开始本地训练...\n",
      "2025-10-22 19:44:17,450 - DGS_BCFL - INFO - [client_7] 学习者开始本地训练...\n",
      "2025-10-22 19:44:27,647 - DGS_BCFL - INFO - [client_1] 训练完成！损失: 0.2708, 准确率: 92.67%\n",
      "2025-10-22 19:44:27,671 - DGS_BCFL - INFO - [client_1] 梯度导出完成！\n",
      "2025-10-22 19:44:27,684 - DGS_BCFL - INFO - [client_1] learner结束第11轮任务\n",
      "2025-10-22 19:44:27,686 - DGS_BCFL - INFO - ======================================================================\n",
      "2025-10-22 19:44:29,054 - DGS_BCFL - INFO - [client_6] 训练完成！损失: 0.2724, 准确率: 92.56%\n",
      "2025-10-22 19:44:29,073 - DGS_BCFL - INFO - [client_6] 梯度导出完成！\n",
      "2025-10-22 19:44:29,078 - DGS_BCFL - INFO - [client_6] learner结束第11轮任务\n",
      "2025-10-22 19:44:29,081 - DGS_BCFL - INFO - ======================================================================\n",
      "2025-10-22 19:44:31,344 - DGS_BCFL - INFO - [client_10] 训练完成！损失: 0.2739, 准确率: 92.75%\n",
      "2025-10-22 19:44:31,369 - DGS_BCFL - INFO - [client_10] 梯度导出完成！\n",
      "2025-10-22 19:44:31,380 - DGS_BCFL - INFO - [client_10] learner结束第11轮任务\n",
      "2025-10-22 19:44:31,383 - DGS_BCFL - INFO - ======================================================================\n",
      "2025-10-22 19:44:32,276 - DGS_BCFL - INFO - [client_5] 当前全局模型 精度: 93.20% 损失: 0.5795\n",
      "2025-10-22 19:44:33,241 - DGS_BCFL - INFO - [client_4] 当前全局模型 精度: 92.95% 损失: 0.5764\n",
      "2025-10-22 19:44:33,278 - DGS_BCFL - INFO - [client_5] 验证者开始验证模型...\n",
      "2025-10-22 19:44:33,280 - DGS_BCFL - INFO - [client_5] 验证者开始验证客户端 client_1的梯度, 梯度路径 ./client_gradients/client_1_10_gradient.pt\n",
      "2025-10-22 19:44:33,300 - DGS_BCFL - INFO - [client_5] 验证者开始应用梯度...\n",
      "2025-10-22 19:44:33,767 - DGS_BCFL - INFO - [client_3] 当前全局模型 精度: 93.40% 损失: 0.5776\n",
      "2025-10-22 19:44:34,035 - DGS_BCFL - INFO - [client_9] 训练完成！损失: 0.2737, 准确率: 92.63%\n",
      "2025-10-22 19:44:34,037 - DGS_BCFL - INFO - [client_7] 训练完成！损失: 0.2625, 准确率: 92.81%\n",
      "2025-10-22 19:44:34,053 - DGS_BCFL - INFO - [client_9] 梯度导出完成！\n",
      "2025-10-22 19:44:34,055 - DGS_BCFL - INFO - [client_7] 梯度导出完成！\n",
      "2025-10-22 19:44:34,055 - DGS_BCFL - INFO - [client_8] 训练完成！损失: 0.2725, 准确率: 92.78%\n",
      "2025-10-22 19:44:34,060 - DGS_BCFL - INFO - [client_9] learner结束第11轮任务\n",
      "2025-10-22 19:44:34,063 - DGS_BCFL - INFO - ======================================================================\n",
      "2025-10-22 19:44:34,065 - DGS_BCFL - INFO - [client_7] learner结束第11轮任务\n",
      "2025-10-22 19:44:34,069 - DGS_BCFL - INFO - ======================================================================\n",
      "2025-10-22 19:44:34,073 - DGS_BCFL - INFO - [client_8] 梯度导出完成！\n",
      "2025-10-22 19:44:34,075 - DGS_BCFL - INFO - [client_8] learner结束第11轮任务\n",
      "2025-10-22 19:44:34,077 - DGS_BCFL - INFO - ======================================================================\n",
      "2025-10-22 19:44:34,244 - DGS_BCFL - INFO - [client_4] 验证者开始验证模型...\n",
      "2025-10-22 19:44:34,246 - DGS_BCFL - INFO - [client_4] 验证者开始验证客户端 client_1的梯度, 梯度路径 ./client_gradients/client_1_10_gradient.pt\n",
      "2025-10-22 19:44:34,255 - DGS_BCFL - INFO - [client_4] 验证者开始应用梯度...\n",
      "2025-10-22 19:44:34,502 - DGS_BCFL - INFO - [client_5] 验证者完成验证, 验证结果: {'is_acceptable': True, 'status': 'accept', 'reason': '准确度提升 0.75%，大于阈值 0.5%', 'base_performance': {'loss': 0.5795408003032207, 'accuracy': 93.2, 'samples': 2000}, 'new_performance': {'loss': 0.1921796660423279, 'accuracy': 93.95, 'samples': 2000}, 'accuracy_change': 0.75, 'loss_change': -0.38736113426089286}\n",
      "2025-10-22 19:44:34,503 - DGS_BCFL - INFO - [client_5] 验证者接受客户端client_1的梯度, 梯度提升0.75\n",
      "2025-10-22 19:44:34,504 - DGS_BCFL - INFO - [client_5] 验证者对客户端client_1的签名进行验证结果: ('client_1', 'client_5', True, 188, 2)\n",
      "2025-10-22 19:44:34,504 - DGS_BCFL - INFO - [client_5] 验证者开始验证客户端 client_6的梯度, 梯度路径 ./client_gradients/client_6_10_gradient.pt\n",
      "2025-10-22 19:44:34,510 - DGS_BCFL - INFO - [client_5] 验证者开始应用梯度...\n",
      "2025-10-22 19:44:34,768 - DGS_BCFL - INFO - [client_3] 验证者开始验证模型...\n",
      "2025-10-22 19:44:34,770 - DGS_BCFL - INFO - [client_3] 验证者开始验证客户端 client_1的梯度, 梯度路径 ./client_gradients/client_1_10_gradient.pt\n",
      "2025-10-22 19:44:34,781 - DGS_BCFL - INFO - [client_3] 验证者开始应用梯度...\n",
      "2025-10-22 19:44:36,993 - DGS_BCFL - INFO - [client_4] 验证者完成验证, 验证结果: {'is_acceptable': True, 'status': 'accept', 'reason': '准确度提升 1.55%，大于阈值 0.5%', 'base_performance': {'loss': 0.5763805648311973, 'accuracy': 92.95, 'samples': 2000}, 'new_performance': {'loss': 0.19633056515455247, 'accuracy': 94.5, 'samples': 2000}, 'accuracy_change': 1.5499999999999972, 'loss_change': -0.38004999967664477}\n",
      "2025-10-22 19:44:36,995 - DGS_BCFL - INFO - [client_4] 验证者接受客户端client_1的梯度, 梯度提升1.5499999999999972\n",
      "2025-10-22 19:44:36,997 - DGS_BCFL - INFO - [client_4] 验证者对客户端client_1的签名进行验证结果: ('client_1', 'client_4', True, 188, 2)\n",
      "2025-10-22 19:44:36,998 - DGS_BCFL - INFO - [client_4] 验证者开始验证客户端 client_6的梯度, 梯度路径 ./client_gradients/client_6_10_gradient.pt\n",
      "2025-10-22 19:44:37,009 - DGS_BCFL - INFO - [client_4] 验证者开始应用梯度...\n",
      "2025-10-22 19:44:37,296 - DGS_BCFL - INFO - [client_5] 验证者完成验证, 验证结果: {'is_acceptable': True, 'status': 'accept', 'reason': '准确度提升 2.05%，大于阈值 0.5%', 'base_performance': {'loss': 0.5795408003032207, 'accuracy': 93.2, 'samples': 2000}, 'new_performance': {'loss': 0.1786195547580719, 'accuracy': 95.25, 'samples': 2000}, 'accuracy_change': 2.049999999999997, 'loss_change': -0.40092124554514885}\n",
      "2025-10-22 19:44:37,297 - DGS_BCFL - INFO - [client_5] 验证者接受客户端client_6的梯度, 梯度提升2.049999999999997\n",
      "2025-10-22 19:44:37,298 - DGS_BCFL - INFO - [client_5] 验证者对客户端client_6的签名进行验证结果: ('client_6', 'client_5', True, 188, 2)\n",
      "2025-10-22 19:44:37,298 - DGS_BCFL - INFO - [client_5] 验证者开始验证客户端 client_10的梯度, 梯度路径 ./client_gradients/client_10_10_gradient.pt\n",
      "2025-10-22 19:44:37,303 - DGS_BCFL - INFO - [client_5] 验证者开始应用梯度...\n",
      "2025-10-22 19:44:37,591 - DGS_BCFL - INFO - [client_3] 验证者完成验证, 验证结果: {'is_acceptable': True, 'status': 'accept', 'reason': '准确度提升 1.15%，大于阈值 0.5%', 'base_performance': {'loss': 0.5776405222713947, 'accuracy': 93.4, 'samples': 2000}, 'new_performance': {'loss': 0.20348164010047912, 'accuracy': 94.55, 'samples': 2000}, 'accuracy_change': 1.1499999999999915, 'loss_change': -0.37415888217091564}\n",
      "2025-10-22 19:44:37,591 - DGS_BCFL - INFO - [client_3] 验证者接受客户端client_1的梯度, 梯度提升1.1499999999999915\n",
      "2025-10-22 19:44:37,592 - DGS_BCFL - INFO - [client_3] 验证者对客户端client_1的签名进行验证结果: ('client_1', 'client_3', True, 188, 2)\n",
      "2025-10-22 19:44:37,593 - DGS_BCFL - INFO - [client_3] 验证者开始验证客户端 client_6的梯度, 梯度路径 ./client_gradients/client_6_10_gradient.pt\n",
      "2025-10-22 19:44:37,597 - DGS_BCFL - INFO - [client_3] 验证者开始应用梯度...\n",
      "2025-10-22 19:44:38,603 - DGS_BCFL - INFO - [client_4] 验证者完成验证, 验证结果: {'is_acceptable': True, 'status': 'accept', 'reason': '准确度提升 1.75%，大于阈值 0.5%', 'base_performance': {'loss': 0.5763805648311973, 'accuracy': 92.95, 'samples': 2000}, 'new_performance': {'loss': 0.18678449416160584, 'accuracy': 94.7, 'samples': 2000}, 'accuracy_change': 1.75, 'loss_change': -0.38959607066959145}\n",
      "2025-10-22 19:44:38,603 - DGS_BCFL - INFO - [client_4] 验证者接受客户端client_6的梯度, 梯度提升1.75\n",
      "2025-10-22 19:44:38,604 - DGS_BCFL - INFO - [client_4] 验证者对客户端client_6的签名进行验证结果: ('client_6', 'client_4', True, 188, 2)\n",
      "2025-10-22 19:44:38,605 - DGS_BCFL - INFO - [client_4] 验证者开始验证客户端 client_10的梯度, 梯度路径 ./client_gradients/client_10_10_gradient.pt\n",
      "2025-10-22 19:44:38,612 - DGS_BCFL - INFO - [client_4] 验证者开始应用梯度...\n",
      "2025-10-22 19:44:39,241 - DGS_BCFL - INFO - [client_5] 验证者完成验证, 验证结果: {'is_acceptable': True, 'status': 'accept', 'reason': '准确度提升 2.05%，大于阈值 0.5%', 'base_performance': {'loss': 0.5795408003032207, 'accuracy': 93.2, 'samples': 2000}, 'new_performance': {'loss': 0.17025911402702332, 'accuracy': 95.25, 'samples': 2000}, 'accuracy_change': 2.049999999999997, 'loss_change': -0.40928168627619743}\n",
      "2025-10-22 19:44:39,241 - DGS_BCFL - INFO - [client_5] 验证者接受客户端client_10的梯度, 梯度提升2.049999999999997\n",
      "2025-10-22 19:44:39,242 - DGS_BCFL - INFO - [client_5] 验证者对客户端client_10的签名进行验证结果: ('client_10', 'client_5', True, 188, 2)\n",
      "2025-10-22 19:44:39,243 - DGS_BCFL - INFO - [client_5] 验证者开始验证客户端 client_9的梯度, 梯度路径 ./client_gradients/client_9_10_gradient.pt\n",
      "2025-10-22 19:44:39,254 - DGS_BCFL - INFO - [client_5] 验证者开始应用梯度...\n",
      "2025-10-22 19:44:39,832 - DGS_BCFL - INFO - [client_3] 验证者完成验证, 验证结果: {'is_acceptable': True, 'status': 'accept', 'reason': '准确度提升 1.40%，大于阈值 0.5%', 'base_performance': {'loss': 0.5776405222713947, 'accuracy': 93.4, 'samples': 2000}, 'new_performance': {'loss': 0.19000467482209205, 'accuracy': 94.8, 'samples': 2000}, 'accuracy_change': 1.3999999999999915, 'loss_change': -0.3876358474493027}\n",
      "2025-10-22 19:44:39,834 - DGS_BCFL - INFO - [client_3] 验证者接受客户端client_6的梯度, 梯度提升1.3999999999999915\n",
      "2025-10-22 19:44:39,835 - DGS_BCFL - INFO - [client_3] 验证者对客户端client_6的签名进行验证结果: ('client_6', 'client_3', True, 188, 2)\n",
      "2025-10-22 19:44:39,836 - DGS_BCFL - INFO - [client_3] 验证者开始验证客户端 client_10的梯度, 梯度路径 ./client_gradients/client_10_10_gradient.pt\n",
      "2025-10-22 19:44:39,845 - DGS_BCFL - INFO - [client_3] 验证者开始应用梯度...\n"
     ]
    }
   ]
  },
  {
   "metadata": {},
   "cell_type": "markdown",
   "source": "## 计算结果可视化",
   "id": "c713b95f2db3b68c"
  },
  {
   "metadata": {},
   "cell_type": "code",
   "source": [
    "import pickle\n",
    "from matplotlib import pyplot as plt\n",
    "import numpy as np\n",
    "# 读取实验结果\n",
    "main_dict = pickle.load(open(\"main_dict.pkl\", \"rb\"))\n",
    "\n",
    "# 精确度变化可视化\n",
    "global_accuracy_history = main_dict[\"global_accuracy_history\"]\n",
    "# 创建图形\n",
    "plt.figure(figsize=(12, 7))\n",
    "\n",
    "# 绘制主要曲线\n",
    "epochs = list(range(1, len(global_accuracy_history) + 1))\n",
    "plt.plot(epochs, global_accuracy_history, 'b-', linewidth=2.5, marker='o', markersize=6, \n",
    "         markerfacecolor='red', markeredgecolor='darkred', markeredgewidth=1, \n",
    "         label='模型准确度')\n",
    "# 显示图表\n",
    "plt.show()\n",
    "    \n",
    "\n",
    "\n",
    "draw_data(global_accuracy_history)\n",
    "\n"
   ],
   "id": "a49f0900bdd32a7",
   "execution_count": 4,
   "outputs": []
  },
  {
   "cell_type": "code",
   "id": "plot_acc_contrib_1",
   "metadata": {
    "ExecuteTime": {
     "end_time": "2025-10-22T11:37:50.605398200Z",
     "start_time": "2025-10-22T11:32:53.365469Z"
    }
   },
   "source": "",
   "outputs": [],
   "execution_count": null
  }
 ],
 "metadata": {
  "kernelspec": {
   "display_name": "Python 3 (ipykernel)",
   "language": "python",
   "name": "python3"
  },
  "language_info": {
   "codemirror_mode": {
    "name": "ipython",
    "version": 3
   },
   "file_extension": ".py",
   "mimetype": "text/x-python",
   "name": "python",
   "nbconvert_exporter": "python",
   "pygments_lexer": "ipython3",
   "version": "3.12.11"
  }
 },
 "nbformat": 4,
 "nbformat_minor": 5
}
