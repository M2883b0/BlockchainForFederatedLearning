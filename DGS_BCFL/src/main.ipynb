{
 "cells": [
  {
   "cell_type": "markdown",
   "id": "3669bd01a5917bdc",
   "metadata": {},
   "source": [
    "# 实验参数设置"
   ]
  },
  {
   "cell_type": "code",
   "id": "7f18203619aad6d2",
   "metadata": {
    "ExecuteTime": {
     "end_time": "2025-10-20T08:50:17.341872Z",
     "start_time": "2025-10-20T08:50:15.056099Z"
    }
   },
   "source": [
    "from FederatedLearning.learner import CNNModel\n",
    "\n",
    "clients_num = 10 # 客户端总数\n",
    "rotation_cycle = 5 # 角色轮换间隔轮数\n",
    "max_round = 100 # 联邦学习轮数\n",
    "model_class = CNNModel # 选用CNN模型"
   ],
   "outputs": [],
   "execution_count": 20
  },
  {
   "cell_type": "markdown",
   "id": "fb7d212d764cf11b",
   "metadata": {},
   "source": "## 数据切分"
  },
  {
   "cell_type": "code",
   "id": "81b159c39888d4b8",
   "metadata": {
    "ExecuteTime": {
     "end_time": "2025-10-20T08:50:19.246209Z",
     "start_time": "2025-10-20T08:50:19.141513Z"
    }
   },
   "source": [
    "import data_split\n",
    "# 使用data_split模块中的函数获取PyTorch数据集\n",
    "train_dataset = data_split.get_mnist_pytorch_dataset(train=True)\n",
    "test_dataset = data_split.get_mnist_pytorch_dataset(train=False)\n",
    "# test\n",
    "# 使用正确的数据集对象创建数据加载器\n",
    "client_dataloaders = data_split.create_client_dataloaders(train_dataset, clients_num // 2, 64, num_workers=clients_num) * 2\n",
    "client_test_loader = data_split.create_client_dataloaders(test_dataset, clients_num // 2, 64) * 2"
   ],
   "outputs": [
    {
     "name": "stderr",
     "output_type": "stream",
     "text": [
      "2025-10-20 16:50:19,230 - DGS_BCFL - INFO - \n",
      "切分5份数据集...\n",
      "2025-10-20 16:50:19,235 - DGS_BCFL - INFO -  1 数据准备完成，样本数: 12000\n",
      "2025-10-20 16:50:19,236 - DGS_BCFL - INFO -  2 数据准备完成，样本数: 12000\n",
      "2025-10-20 16:50:19,238 - DGS_BCFL - INFO -  3 数据准备完成，样本数: 12000\n",
      "2025-10-20 16:50:19,239 - DGS_BCFL - INFO -  4 数据准备完成，样本数: 12000\n",
      "2025-10-20 16:50:19,240 - DGS_BCFL - INFO -  5 数据准备完成，样本数: 12000\n",
      "2025-10-20 16:50:19,241 - DGS_BCFL - INFO - \n",
      "切分5份数据集...\n",
      "2025-10-20 16:50:19,241 - DGS_BCFL - INFO -  1 数据准备完成，样本数: 2000\n",
      "2025-10-20 16:50:19,242 - DGS_BCFL - INFO -  2 数据准备完成，样本数: 2000\n",
      "2025-10-20 16:50:19,243 - DGS_BCFL - INFO -  3 数据准备完成，样本数: 2000\n",
      "2025-10-20 16:50:19,243 - DGS_BCFL - INFO -  4 数据准备完成，样本数: 2000\n",
      "2025-10-20 16:50:19,244 - DGS_BCFL - INFO -  5 数据准备完成，样本数: 2000\n"
     ]
    }
   ],
   "execution_count": 21
  },
  {
   "cell_type": "markdown",
   "id": "119b680f144592a6",
   "metadata": {},
   "source": [
    "## 开始训练"
   ]
  },
  {
   "cell_type": "code",
   "id": "5fde5c3489751dc2",
   "metadata": {
    "jupyter": {
     "is_executing": true
    },
    "ExecuteTime": {
     "start_time": "2025-10-20T08:50:26.787239Z"
    }
   },
   "source": [
    "from owner import Owner\n",
    "from client import Client\n",
    "\n",
    "# 初始化管理者，并获得初始化字典\n",
    "owner = Owner(rotation_cycle=1, model_class=model_class)\n",
    "main_dict = owner.get_main_dict()\n",
    "\n",
    "# 初始化客户端以及身份\n",
    "clients = [owner]\n",
    "for i in range(clients_num):\n",
    "    client_name = f\"client_{i + 1}\"\n",
    "    client = Client(epochs=2, client_name=client_name, data_loader=client_dataloaders[i],\n",
    "                    test_loader=client_test_loader[i], ModelClass=model_class, main_dict=main_dict)\n",
    "    owner.join(client_name)\n",
    "    clients.append(client)\n",
    "\n",
    "import threading\n",
    "\n",
    "for _ in range(max_round):\n",
    "    t = [threading.Thread(target=client.run) for client in clients]\n",
    "    _ = [i.start() for i in t]\n",
    "    _ = [i.join() for i in t]\n",
    "\n",
    "\n",
    "# 保存实验过程和结果\n",
    "import pickle\n",
    "with open(\"main_dict.pkl\", \"wb\") as f:\n",
    "    pickle.dump(main_dict, f)"
   ],
   "outputs": [
    {
     "name": "stderr",
     "output_type": "stream",
     "text": [
      "2025-10-20 16:50:26,879 - DGS_BCFL - INFO - Owner开始初始化 角色\n",
      "2025-10-20 16:50:26,880 - DGS_BCFL - INFO - [client_1]  round 1 等待角色分配...\n",
      "2025-10-20 16:50:26,881 - DGS_BCFL - INFO - [client_2]  round 1 等待角色分配...\n",
      "2025-10-20 16:50:26,881 - DGS_BCFL - INFO - 初始化完成 {'role': [{'client_1': 'aggregator', 'client_2': 'validator', 'client_3': 'validator', 'client_4': 'validator', 'client_5': 'learner', 'client_6': 'learner', 'client_7': 'learner', 'client_8': 'learner', 'client_9': 'learner', 'client_10': 'learner'}], 'global_model': ['./global_model/init_global_model'], 'client_gradients': [], 'votes': [], 'contribution': {'client_1': 0, 'client_2': 0, 'client_3': 0, 'client_4': 0, 'client_5': 0, 'client_6': 0, 'client_7': 0, 'client_8': 0, 'client_9': 0, 'client_10': 0}, 'global_accuracy_history': [], 'contribution_history': []}\n",
      "2025-10-20 16:50:26,883 - DGS_BCFL - INFO - [client_3] 当前轮次角色: validator\n",
      "2025-10-20 16:50:26,884 - DGS_BCFL - INFO - [client_4] 当前轮次角色: validator\n",
      "2025-10-20 16:50:26,885 - DGS_BCFL - INFO - [client_5] 当前轮次角色: learner\n",
      "2025-10-20 16:50:26,887 - DGS_BCFL - INFO - [client_6] 当前轮次角色: learner\n",
      "2025-10-20 16:50:26,887 - DGS_BCFL - INFO - [client_7] 当前轮次角色: learner\n",
      "2025-10-20 16:50:26,888 - DGS_BCFL - INFO - [client_8] 当前轮次角色: learner\n",
      "2025-10-20 16:50:26,889 - DGS_BCFL - INFO - [client_9] 当前轮次角色: learner\n",
      "2025-10-20 16:50:26,890 - DGS_BCFL - INFO - [client_10] 当前轮次角色: learner\n",
      "2025-10-20 16:50:26,916 - DGS_BCFL - INFO - [client_3] 验证者初始化...\n"
     ]
    }
   ],
   "execution_count": null
  },
  {
   "metadata": {},
   "cell_type": "markdown",
   "source": "## 计算结果可视化",
   "id": "c713b95f2db3b68c"
  },
  {
   "metadata": {
    "ExecuteTime": {
     "end_time": "2025-10-20T08:32:06.214196Z",
     "start_time": "2025-10-20T08:32:05.966543Z"
    }
   },
   "cell_type": "code",
   "source": [
    "import pickle\n",
    "from matplotlib import pyplot as plt\n",
    "import numpy as np\n",
    "# 读取实验结果\n",
    "main_dict = pickle.load(open(\"main_dict.pkl\", \"rb\"))\n",
    "# 进行可视化\n",
    "global_accuracy_history = main_dict[\"global_accuracy_history\"]\n",
    "print(global_accuracy_history)\n",
    "\n",
    "# 假设accuracies是你的精度列表\n",
    "# accuracies = [0.60, 0.70, 0.75, 0.80, 0.82, 0.85, 0.87, 0.89, 0.90, 0.91]  # 示例数据\n",
    "\n",
    "# 创建图形\n",
    "plt.figure(figsize=(12, 7))\n",
    "\n",
    "# 绘制主要曲线\n",
    "epochs = list(range(1, len(global_accuracy_history) + 1))\n",
    "plt.plot(epochs, global_accuracy_history, 'b-', linewidth=2.5, marker='o', markersize=6, \n",
    "         markerfacecolor='red', markeredgecolor='darkred', markeredgewidth=1, \n",
    "         label='模型准确度')\n",
    "\n",
    "# 标记最高准确度点\n",
    "max_acc = max(global_accuracy_history)\n",
    "max_epoch = global_accuracy_history.index(max_acc) + 1\n",
    "plt.plot(max_epoch, max_acc, 'ro', markersize=10, label=f'最高准确度: {max_acc:.3f}')\n",
    "\n",
    "# 添加标注\n",
    "plt.annotate(f'最高: {max_acc:.3f}', \n",
    "             xy=(max_epoch, max_acc), \n",
    "             xytext=(max_epoch+0.5, max_acc-0.05),\n",
    "             arrowprops=dict(arrowstyle='->', color='red', lw=1.5),\n",
    "             fontsize=10, color='red')\n",
    "\n",
    "# 自定义图表\n",
    "plt.title('联邦学习模型训练准确度变化曲线', fontsize=16, fontweight='bold', pad=20)\n",
    "plt.xlabel('训练轮次', fontsize=13)\n",
    "plt.ylabel('准确度', fontsize=13)\n",
    "\n",
    "# 设置坐标轴\n",
    "plt.xlim(0.5, len(global_accuracy_history) + 0.5)\n",
    "plt.ylim(max(0, min(global_accuracy_history) - 0.08), min(1.0, max(global_accuracy_history) + 0.05))\n",
    "\n",
    "# 添加网格和样式调整\n",
    "plt.grid(True, linestyle='--', alpha=0.6)\n",
    "plt.legend(fontsize=12, loc='lower right')\n",
    "\n",
    "# 设置刻度\n",
    "plt.xticks(epochs)\n",
    "plt.yticks(np.arange(0, 1.1, 0.1))\n",
    "\n",
    "# 美化样式\n",
    "plt.tight_layout()\n",
    "\n",
    "# 显示图表\n",
    "plt.show()\n",
    "\n",
    "# 保存图表（可选）\n",
    "# plt.savefig('federated_learning_accuracy_detailed.png', dpi=300, bbox_inches='tight')\n",
    "\n"
   ],
   "id": "a49f0900bdd32a7",
   "outputs": [
    {
     "name": "stdout",
     "output_type": "stream",
     "text": [
      "[10.5, 92.25, 92.55, 96.1, 96.75, 97.5, 97.8, 97.85, 98.15, 97.85, 98.15]\n"
     ]
    },
    {
     "name": "stderr",
     "output_type": "stream",
     "text": [
      "/tmp/ipykernel_3019641/1319006179.py:52: UserWarning: Glyph 35757 (\\N{CJK UNIFIED IDEOGRAPH-8BAD}) missing from font(s) DejaVu Sans.\n",
      "  plt.tight_layout()\n",
      "/tmp/ipykernel_3019641/1319006179.py:52: UserWarning: Glyph 32451 (\\N{CJK UNIFIED IDEOGRAPH-7EC3}) missing from font(s) DejaVu Sans.\n",
      "  plt.tight_layout()\n",
      "/tmp/ipykernel_3019641/1319006179.py:52: UserWarning: Glyph 36718 (\\N{CJK UNIFIED IDEOGRAPH-8F6E}) missing from font(s) DejaVu Sans.\n",
      "  plt.tight_layout()\n",
      "/tmp/ipykernel_3019641/1319006179.py:52: UserWarning: Glyph 27425 (\\N{CJK UNIFIED IDEOGRAPH-6B21}) missing from font(s) DejaVu Sans.\n",
      "  plt.tight_layout()\n",
      "/tmp/ipykernel_3019641/1319006179.py:52: UserWarning: Glyph 20934 (\\N{CJK UNIFIED IDEOGRAPH-51C6}) missing from font(s) DejaVu Sans.\n",
      "  plt.tight_layout()\n",
      "/tmp/ipykernel_3019641/1319006179.py:52: UserWarning: Glyph 30830 (\\N{CJK UNIFIED IDEOGRAPH-786E}) missing from font(s) DejaVu Sans.\n",
      "  plt.tight_layout()\n",
      "/tmp/ipykernel_3019641/1319006179.py:52: UserWarning: Glyph 24230 (\\N{CJK UNIFIED IDEOGRAPH-5EA6}) missing from font(s) DejaVu Sans.\n",
      "  plt.tight_layout()\n",
      "/tmp/ipykernel_3019641/1319006179.py:52: UserWarning: Glyph 32852 (\\N{CJK UNIFIED IDEOGRAPH-8054}) missing from font(s) DejaVu Sans.\n",
      "  plt.tight_layout()\n",
      "/tmp/ipykernel_3019641/1319006179.py:52: UserWarning: Glyph 37030 (\\N{CJK UNIFIED IDEOGRAPH-90A6}) missing from font(s) DejaVu Sans.\n",
      "  plt.tight_layout()\n",
      "/tmp/ipykernel_3019641/1319006179.py:52: UserWarning: Glyph 23398 (\\N{CJK UNIFIED IDEOGRAPH-5B66}) missing from font(s) DejaVu Sans.\n",
      "  plt.tight_layout()\n",
      "/tmp/ipykernel_3019641/1319006179.py:52: UserWarning: Glyph 20064 (\\N{CJK UNIFIED IDEOGRAPH-4E60}) missing from font(s) DejaVu Sans.\n",
      "  plt.tight_layout()\n",
      "/tmp/ipykernel_3019641/1319006179.py:52: UserWarning: Glyph 27169 (\\N{CJK UNIFIED IDEOGRAPH-6A21}) missing from font(s) DejaVu Sans.\n",
      "  plt.tight_layout()\n",
      "/tmp/ipykernel_3019641/1319006179.py:52: UserWarning: Glyph 22411 (\\N{CJK UNIFIED IDEOGRAPH-578B}) missing from font(s) DejaVu Sans.\n",
      "  plt.tight_layout()\n",
      "/tmp/ipykernel_3019641/1319006179.py:52: UserWarning: Glyph 21464 (\\N{CJK UNIFIED IDEOGRAPH-53D8}) missing from font(s) DejaVu Sans.\n",
      "  plt.tight_layout()\n",
      "/tmp/ipykernel_3019641/1319006179.py:52: UserWarning: Glyph 21270 (\\N{CJK UNIFIED IDEOGRAPH-5316}) missing from font(s) DejaVu Sans.\n",
      "  plt.tight_layout()\n",
      "/tmp/ipykernel_3019641/1319006179.py:52: UserWarning: Glyph 26354 (\\N{CJK UNIFIED IDEOGRAPH-66F2}) missing from font(s) DejaVu Sans.\n",
      "  plt.tight_layout()\n",
      "/tmp/ipykernel_3019641/1319006179.py:52: UserWarning: Glyph 32447 (\\N{CJK UNIFIED IDEOGRAPH-7EBF}) missing from font(s) DejaVu Sans.\n",
      "  plt.tight_layout()\n",
      "/tmp/ipykernel_3019641/1319006179.py:52: UserWarning: Glyph 26368 (\\N{CJK UNIFIED IDEOGRAPH-6700}) missing from font(s) DejaVu Sans.\n",
      "  plt.tight_layout()\n",
      "/tmp/ipykernel_3019641/1319006179.py:52: UserWarning: Glyph 39640 (\\N{CJK UNIFIED IDEOGRAPH-9AD8}) missing from font(s) DejaVu Sans.\n",
      "  plt.tight_layout()\n"
     ]
    },
    {
     "data": {
      "text/plain": [
       "<Figure size 1200x700 with 1 Axes>"
      ],
      "image/png": "[encoded data removed]"
     },
     "metadata": {},
     "output_type": "display_data"
    }
   ],
   "execution_count": 19
  },
  {
   "cell_type": "code",
   "id": "plot_acc_contrib_1",
   "metadata": {},
   "source": "",
   "outputs": [],
   "execution_count": null
  }
 ],
 "metadata": {
  "kernelspec": {
   "display_name": "Python 3 (ipykernel)",
   "language": "python",
   "name": "python3"
  },
  "language_info": {
   "codemirror_mode": {
    "name": "ipython",
    "version": 3
   },
   "file_extension": ".py",
   "mimetype": "text/x-python",
   "name": "python",
   "nbconvert_exporter": "python",
   "pygments_lexer": "ipython3",
   "version": "3.12.11"
  }
 },
 "nbformat": 4,
 "nbformat_minor": 5
}
