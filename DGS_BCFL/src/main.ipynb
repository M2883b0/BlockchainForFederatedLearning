{
 "cells": [
  {
   "metadata": {},
   "cell_type": "markdown",
   "source": "# 实验参数设置\n",
   "id": "3669bd01a5917bdc"
  },
  {
   "metadata": {},
   "cell_type": "code",
   "outputs": [],
   "execution_count": null,
   "source": [
    "client_count = 10 # 客户端总数\n",
    "rotation_cycle = 5 # 角色轮换间隔轮数"
   ],
   "id": "7f18203619aad6d2"
  }
 ],
 "metadata": {
  "kernelspec": {
   "display_name": "Python 3",
   "language": "python",
   "name": "python3"
  },
  "language_info": {
   "codemirror_mode": {
    "name": "ipython",
    "version": 2
   },
   "file_extension": ".py",
   "mimetype": "text/x-python",
   "name": "python",
   "nbconvert_exporter": "python",
   "pygments_lexer": "ipython2",
   "version": "2.7.6"
  }
 },
 "nbformat": 4,
 "nbformat_minor": 5
}
