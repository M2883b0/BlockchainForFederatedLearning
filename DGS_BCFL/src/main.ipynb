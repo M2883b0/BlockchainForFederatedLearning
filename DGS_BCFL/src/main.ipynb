{
 "cells": [
  {
   "cell_type": "markdown",
   "id": "3669bd01a5917bdc",
   "metadata": {},
   "source": [
    "# 实验参数设置"
   ]
  },
  {
   "cell_type": "code",
   "id": "7f18203619aad6d2",
   "metadata": {
    "ExecuteTime": {
     "end_time": "2025-10-17T02:18:33.264569Z",
     "start_time": "2025-10-17T02:18:33.258685Z"
    }
   },
   "source": [
    "from FederatedLearning.learner import CNNModel\n",
    "\n",
    "clients_num = 10 # 客户端总数\n",
    "rotation_cycle = 5 # 角色轮换间隔轮数\n",
    "max_round = 10 # 联邦学习轮数\n",
    "model_class = CNNModel # 选用CNN模型"
   ],
   "outputs": [],
   "execution_count": 12
  },
  {
   "cell_type": "markdown",
   "id": "fb7d212d764cf11b",
   "metadata": {},
   "source": [
    "## 数据切分"
   ]
  },
  {
   "cell_type": "code",
   "id": "81b159c39888d4b8",
   "metadata": {
    "ExecuteTime": {
     "end_time": "2025-10-17T02:18:33.588196Z",
     "start_time": "2025-10-17T02:18:33.444353Z"
    }
   },
   "source": [
    "import data_split\n",
    "# 使用data_split模块中的函数获取PyTorch数据集\n",
    "train_dataset = data_split.get_mnist_pytorch_dataset(train=True)\n",
    "test_dataset = data_split.get_mnist_pytorch_dataset(train=False)\n",
    "# test\n",
    "# 使用正确的数据集对象创建数据加载器\n",
    "client_dataloaders = data_split.create_client_dataloaders(train_dataset, clients_num // 2, 64) * 2\n",
    "client_test_loader = data_split.create_client_dataloaders(test_dataset,clients_num // 2, 64) * 2"
   ],
   "outputs": [
    {
     "name": "stderr",
     "output_type": "stream",
     "text": [
      "2025-10-17 10:18:33,566 - DGS_BCFL - INFO - \n",
      "为5个客户端分配数据集...\n",
      "2025-10-17 10:18:33,568 - DGS_BCFL - INFO - 客户端 1 数据准备完成，样本数: 12000\n",
      "2025-10-17 10:18:33,569 - DGS_BCFL - INFO - 客户端 2 数据准备完成，样本数: 12000\n",
      "2025-10-17 10:18:33,570 - DGS_BCFL - INFO - 客户端 3 数据准备完成，样本数: 12000\n",
      "2025-10-17 10:18:33,572 - DGS_BCFL - INFO - 客户端 4 数据准备完成，样本数: 12000\n",
      "2025-10-17 10:18:33,573 - DGS_BCFL - INFO - 客户端 5 数据准备完成，样本数: 12000\n",
      "2025-10-17 10:18:33,578 - DGS_BCFL - INFO - \n",
      "为5个客户端分配数据集...\n",
      "2025-10-17 10:18:33,579 - DGS_BCFL - INFO - 客户端 1 数据准备完成，样本数: 2000\n",
      "2025-10-17 10:18:33,581 - DGS_BCFL - INFO - 客户端 2 数据准备完成，样本数: 2000\n",
      "2025-10-17 10:18:33,583 - DGS_BCFL - INFO - 客户端 3 数据准备完成，样本数: 2000\n",
      "2025-10-17 10:18:33,584 - DGS_BCFL - INFO - 客户端 4 数据准备完成，样本数: 2000\n",
      "2025-10-17 10:18:33,585 - DGS_BCFL - INFO - 客户端 5 数据准备完成，样本数: 2000\n"
     ]
    }
   ],
   "execution_count": 13
  },
  {
   "cell_type": "markdown",
   "id": "119b680f144592a6",
   "metadata": {},
   "source": [
    "## 开始训练"
   ]
  },
  {
   "cell_type": "code",
   "id": "5fde5c3489751dc2",
   "metadata": {
    "ExecuteTime": {
     "end_time": "2025-10-17T02:33:29.315156Z",
     "start_time": "2025-10-17T02:18:33.817710Z"
    }
   },
   "source": [
    "from owner import Owner\n",
    "from client import Client\n",
    "\n",
    "# 初始化管理者，并获得初始化字典\n",
    "owner = Owner(rotation_cycle=1, model_class=model_class)\n",
    "main_dict = owner.get_main_dict()\n",
    "\n",
    "# 初始化客户端以及身份\n",
    "clients = [owner]\n",
    "for i in range(clients_num):\n",
    "    client_name = f\"client_{i+1}\"\n",
    "    client = Client(epochs=2, client_name=client_name, data_loader=client_dataloaders[i], test_loader=client_test_loader[i], ModelClass=model_class, main_dict=main_dict)\n",
    "    owner.join(client_name)\n",
    "    clients.append(client)\n",
    "\n",
    "\n",
    "import threading\n",
    "for _ in range(max_round):\n",
    "    t = [threading.Thread(target=client.run) for client in clients]\n",
    "    _ = [i.start() for i in t]\n",
    "    _ = [i.join() for i in t]"
   ],
   "outputs": [
    {
     "name": "stderr",
     "output_type": "stream",
     "text": [
      "2025-10-17 10:18:33,888 - DGS_BCFL - INFO - [client_1] 当前轮次角色: aggregator\n",
      "2025-10-17 10:18:33,889 - DGS_BCFL - INFO - [client_2] 当前轮次角色: validator\n",
      "2025-10-17 10:18:33,889 - DGS_BCFL - INFO - [client_3] 当前轮次角色: validator\n",
      "2025-10-17 10:18:33,890 - DGS_BCFL - INFO - [client_4] 当前轮次角色: validator\n",
      "2025-10-17 10:18:33,891 - DGS_BCFL - INFO - [client_5] 当前轮次角色: learner\n",
      "2025-10-17 10:18:33,892 - DGS_BCFL - INFO - [client_6] 当前轮次角色: learner\n",
      "2025-10-17 10:18:33,894 - DGS_BCFL - INFO - [client_7] 当前轮次角色: learner\n",
      "2025-10-17 10:18:33,895 - DGS_BCFL - INFO - [client_8] 当前轮次角色: learner\n",
      "2025-10-17 10:18:33,896 - DGS_BCFL - INFO - [client_9] 当前轮次角色: learner\n",
      "2025-10-17 10:18:33,898 - DGS_BCFL - INFO - [client_10] 当前轮次角色: learner\n",
      "2025-10-17 10:18:33,961 - DGS_BCFL - INFO - Aggregator使用设备: cuda\n",
      "2025-10-17 10:18:33,983 - DGS_BCFL - INFO - [client_4] 验证者初始化...\n",
      "2025-10-17 10:18:33,992 - DGS_BCFL - INFO - [client_2] 验证者初始化...\n",
      "2025-10-17 10:18:34,000 - DGS_BCFL - INFO - [client_3] 验证者初始化...\n",
      "2025-10-17 10:18:34,187 - DGS_BCFL - INFO - [client_1] 聚合者开始收集梯度...\n",
      "2025-10-17 10:18:34,274 - DGS_BCFL - INFO - [client_10] 学习者开始本地训练...\n",
      "2025-10-17 10:18:34,310 - DGS_BCFL - INFO - [client_9] 学习者开始本地训练...\n",
      "2025-10-17 10:18:34,313 - DGS_BCFL - INFO - [client_6] 学习者开始本地训练...\n",
      "2025-10-17 10:18:34,358 - DGS_BCFL - INFO - [client_7] 学习者开始本地训练...\n",
      "2025-10-17 10:18:34,396 - DGS_BCFL - INFO - [client_8] 学习者开始本地训练...\n",
      "2025-10-17 10:18:34,436 - DGS_BCFL - INFO - [client_5] 学习者开始本地训练...\n",
      "2025-10-17 10:18:34,358 - DGS_BCFL - INFO - [client_7] 学习者开始本地训练...\n",
      "2025-10-17 10:18:34,310 - DGS_BCFL - INFO - [client_9] 学习者开始本地训练...\n",
      "2025-10-17 10:18:34,396 - DGS_BCFL - INFO - [client_8] 学习者开始本地训练...\n",
      "2025-10-17 10:18:34,274 - DGS_BCFL - INFO - [client_10] 学习者开始本地训练...\n",
      "2025-10-17 10:18:36,566 - DGS_BCFL - INFO - [client_3] 当前全局模型 精度: 6.30% 损失: 2.3032\n",
      "2025-10-17 10:18:36,569 - DGS_BCFL - INFO - [client_2] 当前全局模型 精度: 5.65% 损失: 2.3046\n",
      "2025-10-17 10:18:39,792 - DGS_BCFL - INFO - 客户端训练轮次 1/2: 损失=1.4094, 准确率=62.42%\n",
      "2025-10-17 10:18:40,673 - DGS_BCFL - INFO - 客户端训练轮次 1/2: 损失=1.4253, 准确率=62.73%\n",
      "2025-10-17 10:18:41,348 - DGS_BCFL - INFO - 客户端训练轮次 1/2: 损失=1.4117, 准确率=64.08%\n",
      "2025-10-17 10:18:41,351 - DGS_BCFL - INFO - 客户端训练轮次 1/2: 损失=1.4154, 准确率=63.12%\n",
      "2025-10-17 10:18:41,355 - DGS_BCFL - INFO - 客户端训练轮次 1/2: 损失=1.4105, 准确率=63.56%\n",
      "2025-10-17 10:18:41,356 - DGS_BCFL - INFO - [client_4] 当前全局模型 精度: 5.30% 损失: 2.3077\n",
      "2025-10-17 10:18:43,170 - DGS_BCFL - INFO - 客户端训练轮次 2/2: 损失=0.4193, 准确率=87.47%\n",
      "2025-10-17 10:18:43,176 - DGS_BCFL - INFO - [client_5] 训练完成！损失: 0.9143, 准确率: 74.95%\n",
      "2025-10-17 10:18:43,205 - DGS_BCFL - INFO - [client_5] 梯度导出完成！\n",
      "2025-10-17 10:18:43,218 - DGS_BCFL - INFO - [client_5] learner结束第1轮任务\n",
      "2025-10-17 10:18:43,221 - DGS_BCFL - INFO - ======================================================================\n",
      "2025-10-17 10:18:43,402 - DGS_BCFL - INFO - [client_4] 验证者开始验证模型...\n",
      "2025-10-17 10:18:43,614 - DGS_BCFL - INFO - [client_3] 验证者开始验证模型...\n",
      "2025-10-17 10:18:43,622 - DGS_BCFL - INFO - [client_2] 验证者开始验证模型...\n",
      "2025-10-17 10:18:44,846 - DGS_BCFL - INFO - [client_4] 验证者接受客户端client_5的梯度, 梯度提升83.5\n",
      "2025-10-17 10:18:44,851 - DGS_BCFL - INFO - [client_4] 验证者对客户端client_5的签名进行验证结果: ('client_5', 'client_4', True)\n",
      "2025-10-17 10:18:44,860 - DGS_BCFL - INFO - [client_3] 验证者接受客户端client_5的梯度, 梯度提升81.10000000000001\n",
      "2025-10-17 10:18:44,875 - DGS_BCFL - INFO - [client_3] 验证者对客户端client_5的签名进行验证结果: ('client_5', 'client_3', True)\n",
      "2025-10-17 10:18:44,902 - DGS_BCFL - INFO - [client_2] 验证者接受客户端client_5的梯度, 梯度提升81.75\n",
      "2025-10-17 10:18:45,002 - DGS_BCFL - INFO - [client_2] 验证者对客户端client_5的签名进行验证结果: ('client_5', 'client_2', True)\n",
      "2025-10-17 10:18:47,813 - DGS_BCFL - INFO - 客户端训练轮次 1/2: 损失=1.4193, 准确率=63.45%\n",
      "2025-10-17 10:19:09,134 - DGS_BCFL - INFO - 客户端训练轮次 2/2: 损失=0.4397, 准确率=86.46%\n",
      "2025-10-17 10:19:09,215 - DGS_BCFL - INFO - [client_9] 训练完成！损失: 0.9325, 准确率: 74.60%\n",
      "2025-10-17 10:19:09,413 - DGS_BCFL - INFO - [client_9] 梯度导出完成！\n",
      "2025-10-17 10:19:09,445 - DGS_BCFL - INFO - [client_9] learner结束第1轮任务\n",
      "2025-10-17 10:19:09,448 - DGS_BCFL - INFO - ======================================================================\n",
      "2025-10-17 10:19:10,839 - DGS_BCFL - INFO - [client_2] 验证者接受客户端client_9的梯度, 梯度提升83.5\n",
      "2025-10-17 10:19:10,844 - DGS_BCFL - INFO - [client_2] 验证者对客户端client_9的签名进行验证结果: ('client_9', 'client_2', True)\n",
      "2025-10-17 10:19:10,863 - DGS_BCFL - INFO - [client_4] 验证者接受客户端client_9的梯度, 梯度提升83.9\n",
      "2025-10-17 10:19:10,888 - DGS_BCFL - INFO - [client_4] 验证者对客户端client_9的签名进行验证结果: ('client_9', 'client_4', True)\n",
      "2025-10-17 10:19:10,914 - DGS_BCFL - INFO - [client_3] 验证者接受客户端client_9的梯度, 梯度提升81.85000000000001\n",
      "2025-10-17 10:19:10,995 - DGS_BCFL - INFO - [client_3] 验证者对客户端client_9的签名进行验证结果: ('client_9', 'client_3', True)\n",
      "2025-10-17 10:19:34,158 - DGS_BCFL - INFO - 客户端训练轮次 2/2: 损失=0.4272, 准确率=86.95%\n",
      "2025-10-17 10:19:34,311 - DGS_BCFL - INFO - [client_10] 训练完成！损失: 0.9194, 准确率: 75.51%\n",
      "2025-10-17 10:19:34,687 - DGS_BCFL - INFO - [client_10] 梯度导出完成！\n",
      "2025-10-17 10:19:34,701 - DGS_BCFL - INFO - [client_10] learner结束第1轮任务\n",
      "2025-10-17 10:19:34,709 - DGS_BCFL - INFO - ======================================================================\n",
      "2025-10-17 10:19:35,740 - DGS_BCFL - INFO - [client_4] 验证者接受客户端client_10的梯度, 梯度提升86.25\n",
      "2025-10-17 10:19:35,742 - DGS_BCFL - INFO - [client_3] 验证者接受客户端client_10的梯度, 梯度提升84.2\n",
      "2025-10-17 10:19:35,743 - DGS_BCFL - INFO - [client_4] 验证者对客户端client_10的签名进行验证结果: ('client_10', 'client_4', True)\n",
      "2025-10-17 10:19:35,745 - DGS_BCFL - INFO - [client_3] 验证者对客户端client_10的签名进行验证结果: ('client_10', 'client_3', True)\n",
      "2025-10-17 10:19:35,933 - DGS_BCFL - INFO - [client_2] 验证者接受客户端client_10的梯度, 梯度提升86.35\n",
      "2025-10-17 10:19:35,950 - DGS_BCFL - INFO - [client_2] 验证者对客户端client_10的签名进行验证结果: ('client_10', 'client_2', True)\n",
      "2025-10-17 10:19:40,671 - DGS_BCFL - INFO - 客户端训练轮次 2/2: 损失=0.4274, 准确率=87.29%\n",
      "2025-10-17 10:19:40,791 - DGS_BCFL - INFO - [client_6] 训练完成！损失: 0.9214, 准确率: 75.21%\n",
      "2025-10-17 10:19:41,070 - DGS_BCFL - INFO - [client_6] 梯度导出完成！\n",
      "2025-10-17 10:19:41,094 - DGS_BCFL - INFO - [client_6] learner结束第1轮任务\n",
      "2025-10-17 10:19:41,100 - DGS_BCFL - INFO - ======================================================================\n",
      "2025-10-17 10:19:41,988 - DGS_BCFL - INFO - 客户端训练轮次 2/2: 损失=0.4337, 准确率=87.08%\n",
      "2025-10-17 10:19:41,997 - DGS_BCFL - INFO - [client_8] 训练完成！损失: 0.9221, 准确率: 75.32%\n",
      "2025-10-17 10:19:42,018 - DGS_BCFL - INFO - [client_8] 梯度导出完成！\n",
      "2025-10-17 10:19:42,026 - DGS_BCFL - INFO - [client_8] learner结束第1轮任务\n",
      "2025-10-17 10:19:42,029 - DGS_BCFL - INFO - ======================================================================\n",
      "2025-10-17 10:19:42,148 - DGS_BCFL - INFO - [client_4] 验证者接受客户端client_6的梯度, 梯度提升84.35000000000001\n",
      "2025-10-17 10:19:42,150 - DGS_BCFL - INFO - [client_4] 验证者对客户端client_6的签名进行验证结果: ('client_6', 'client_4', True)\n",
      "2025-10-17 10:19:42,499 - DGS_BCFL - INFO - [client_4] 验证者接受客户端client_8的梯度, 梯度提升85.4\n",
      "2025-10-17 10:19:42,501 - DGS_BCFL - INFO - [client_4] 验证者对客户端client_8的签名进行验证结果: ('client_8', 'client_4', True)\n",
      "2025-10-17 10:19:47,195 - DGS_BCFL - INFO - [client_3] 验证者接受客户端client_6的梯度, 梯度提升82.3\n",
      "2025-10-17 10:19:47,208 - DGS_BCFL - INFO - [client_3] 验证者对客户端client_6的签名进行验证结果: ('client_6', 'client_3', True)\n",
      "2025-10-17 10:19:47,614 - DGS_BCFL - INFO - 客户端训练轮次 2/2: 损失=0.4351, 准确率=86.81%\n",
      "2025-10-17 10:19:47,687 - DGS_BCFL - INFO - [client_7] 训练完成！损失: 0.9272, 准确率: 75.13%\n",
      "2025-10-17 10:19:47,964 - DGS_BCFL - INFO - [client_7] 梯度导出完成！\n",
      "2025-10-17 10:19:48,055 - DGS_BCFL - INFO - [client_7] learner结束第1轮任务\n",
      "2025-10-17 10:19:48,060 - DGS_BCFL - INFO - ======================================================================\n",
      "2025-10-17 10:19:48,348 - DGS_BCFL - INFO - [client_4] 验证者接受客户端client_7的梯度, 梯度提升81.75\n",
      "2025-10-17 10:19:48,350 - DGS_BCFL - INFO - [client_4] 验证者对客户端client_7的签名进行验证结果: ('client_7', 'client_4', True)\n",
      "2025-10-17 10:19:48,352 - DGS_BCFL - INFO - [client_4] validator结束第1轮任务\n",
      "2025-10-17 10:19:48,353 - DGS_BCFL - INFO - ======================================================================\n",
      "2025-10-17 10:19:48,403 - DGS_BCFL - INFO - [client_3] 验证者接受客户端client_8的梯度, 梯度提升83.60000000000001\n",
      "2025-10-17 10:19:48,404 - DGS_BCFL - INFO - [client_3] 验证者对客户端client_8的签名进行验证结果: ('client_8', 'client_3', True)\n",
      "2025-10-17 10:19:48,704 - DGS_BCFL - INFO - [client_3] 验证者接受客户端client_7的梯度, 梯度提升80.10000000000001\n",
      "2025-10-17 10:19:48,706 - DGS_BCFL - INFO - [client_3] 验证者对客户端client_7的签名进行验证结果: ('client_7', 'client_3', True)\n",
      "2025-10-17 10:19:48,708 - DGS_BCFL - INFO - [client_3] validator结束第1轮任务\n",
      "2025-10-17 10:19:48,709 - DGS_BCFL - INFO - ======================================================================\n"
     ]
    },
    {
     "ename": "KeyboardInterrupt",
     "evalue": "",
     "output_type": "error",
     "traceback": [
      "\u001B[31m---------------------------------------------------------------------------\u001B[39m",
      "\u001B[31mKeyboardInterrupt\u001B[39m                         Traceback (most recent call last)",
      "\u001B[36mCell\u001B[39m\u001B[36m \u001B[39m\u001B[32mIn[14]\u001B[39m\u001B[32m, line 21\u001B[39m\n\u001B[32m     19\u001B[39m t = [threading.Thread(target=client.run) \u001B[38;5;28;01mfor\u001B[39;00m client \u001B[38;5;129;01min\u001B[39;00m clients]\n\u001B[32m     20\u001B[39m _ = [i.start() \u001B[38;5;28;01mfor\u001B[39;00m i \u001B[38;5;129;01min\u001B[39;00m t]\n\u001B[32m---> \u001B[39m\u001B[32m21\u001B[39m _ = [\u001B[43mi\u001B[49m\u001B[43m.\u001B[49m\u001B[43mjoin\u001B[49m\u001B[43m(\u001B[49m\u001B[43m)\u001B[49m \u001B[38;5;28;01mfor\u001B[39;00m i \u001B[38;5;129;01min\u001B[39;00m t]\n",
      "\u001B[36mFile \u001B[39m\u001B[32m~/miniconda3/envs/bcfl/lib/python3.12/threading.py:1149\u001B[39m, in \u001B[36mThread.join\u001B[39m\u001B[34m(self, timeout)\u001B[39m\n\u001B[32m   1146\u001B[39m     \u001B[38;5;28;01mraise\u001B[39;00m \u001B[38;5;167;01mRuntimeError\u001B[39;00m(\u001B[33m\"\u001B[39m\u001B[33mcannot join current thread\u001B[39m\u001B[33m\"\u001B[39m)\n\u001B[32m   1148\u001B[39m \u001B[38;5;28;01mif\u001B[39;00m timeout \u001B[38;5;129;01mis\u001B[39;00m \u001B[38;5;28;01mNone\u001B[39;00m:\n\u001B[32m-> \u001B[39m\u001B[32m1149\u001B[39m     \u001B[38;5;28;43mself\u001B[39;49m\u001B[43m.\u001B[49m\u001B[43m_wait_for_tstate_lock\u001B[49m\u001B[43m(\u001B[49m\u001B[43m)\u001B[49m\n\u001B[32m   1150\u001B[39m \u001B[38;5;28;01melse\u001B[39;00m:\n\u001B[32m   1151\u001B[39m     \u001B[38;5;66;03m# the behavior of a negative timeout isn't documented, but\u001B[39;00m\n\u001B[32m   1152\u001B[39m     \u001B[38;5;66;03m# historically .join(timeout=x) for x<0 has acted as if timeout=0\u001B[39;00m\n\u001B[32m   1153\u001B[39m     \u001B[38;5;28mself\u001B[39m._wait_for_tstate_lock(timeout=\u001B[38;5;28mmax\u001B[39m(timeout, \u001B[32m0\u001B[39m))\n",
      "\u001B[36mFile \u001B[39m\u001B[32m~/miniconda3/envs/bcfl/lib/python3.12/threading.py:1169\u001B[39m, in \u001B[36mThread._wait_for_tstate_lock\u001B[39m\u001B[34m(self, block, timeout)\u001B[39m\n\u001B[32m   1166\u001B[39m     \u001B[38;5;28;01mreturn\u001B[39;00m\n\u001B[32m   1168\u001B[39m \u001B[38;5;28;01mtry\u001B[39;00m:\n\u001B[32m-> \u001B[39m\u001B[32m1169\u001B[39m     \u001B[38;5;28;01mif\u001B[39;00m \u001B[43mlock\u001B[49m\u001B[43m.\u001B[49m\u001B[43macquire\u001B[49m\u001B[43m(\u001B[49m\u001B[43mblock\u001B[49m\u001B[43m,\u001B[49m\u001B[43m \u001B[49m\u001B[43mtimeout\u001B[49m\u001B[43m)\u001B[49m:\n\u001B[32m   1170\u001B[39m         lock.release()\n\u001B[32m   1171\u001B[39m         \u001B[38;5;28mself\u001B[39m._stop()\n",
      "\u001B[31mKeyboardInterrupt\u001B[39m: "
     ]
    }
   ],
   "execution_count": 14
  },
  {
   "metadata": {},
   "cell_type": "markdown",
   "source": "## 计算结果可视化",
   "id": "c713b95f2db3b68c"
  },
  {
   "metadata": {},
   "cell_type": "code",
   "outputs": [],
   "execution_count": null,
   "source": "",
   "id": "a49f0900bdd32a7"
  }
 ],
 "metadata": {
  "kernelspec": {
   "display_name": "Python 3 (ipykernel)",
   "language": "python",
   "name": "python3"
  },
  "language_info": {
   "codemirror_mode": {
    "name": "ipython",
    "version": 3
   },
   "file_extension": ".py",
   "mimetype": "text/x-python",
   "name": "python",
   "nbconvert_exporter": "python",
   "pygments_lexer": "ipython3",
   "version": "3.12.11"
  }
 },
 "nbformat": 4,
 "nbformat_minor": 5
}
