{
 "cells": [
  {
   "cell_type": "markdown",
   "id": "3669bd01a5917bdc",
   "metadata": {},
   "source": [
    "# 实验参数设置"
   ]
  },
  {
   "cell_type": "code",
   "id": "7f18203619aad6d2",
   "metadata": {
    "ExecuteTime": {
     "end_time": "2025-10-19T02:08:37.204369Z",
     "start_time": "2025-10-19T02:08:34.775462Z"
    }
   },
   "source": [
    "from FederatedLearning.learner import CNNModel\n",
    "\n",
    "clients_num = 10 # 客户端总数\n",
    "rotation_cycle = 5 # 角色轮换间隔轮数\n",
    "max_round = 10 # 联邦学习轮数\n",
    "model_class = CNNModel # 选用CNN模型"
   ],
   "outputs": [],
   "execution_count": 1
  },
  {
   "cell_type": "markdown",
   "id": "fb7d212d764cf11b",
   "metadata": {},
   "source": "## 数据切分"
  },
  {
   "cell_type": "code",
   "id": "81b159c39888d4b8",
   "metadata": {
    "ExecuteTime": {
     "end_time": "2025-10-19T02:08:39.118771Z",
     "start_time": "2025-10-19T02:08:39.017810Z"
    }
   },
   "source": [
    "import data_split\n",
    "# 使用data_split模块中的函数获取PyTorch数据集\n",
    "train_dataset = data_split.get_mnist_pytorch_dataset(train=True)\n",
    "test_dataset = data_split.get_mnist_pytorch_dataset(train=False)\n",
    "# test\n",
    "# 使用正确的数据集对象创建数据加载器\n",
    "client_dataloaders = data_split.create_client_dataloaders(train_dataset, clients_num // 2, 64) * 2\n",
    "client_test_loader = data_split.create_client_dataloaders(test_dataset,clients_num // 2, 64) * 2"
   ],
   "outputs": [
    {
     "name": "stderr",
     "output_type": "stream",
     "text": [
      "2025-10-19 10:08:39,106 - DGS_BCFL - INFO - \n",
      "切分5份数据集...\n",
      "2025-10-19 10:08:39,108 - DGS_BCFL - INFO -  1 数据准备完成，样本数: 12000\n",
      "2025-10-19 10:08:39,110 - DGS_BCFL - INFO -  2 数据准备完成，样本数: 12000\n",
      "2025-10-19 10:08:39,111 - DGS_BCFL - INFO -  3 数据准备完成，样本数: 12000\n",
      "2025-10-19 10:08:39,112 - DGS_BCFL - INFO -  4 数据准备完成，样本数: 12000\n",
      "2025-10-19 10:08:39,113 - DGS_BCFL - INFO -  5 数据准备完成，样本数: 12000\n",
      "2025-10-19 10:08:39,114 - DGS_BCFL - INFO - \n",
      "切分5份数据集...\n",
      "2025-10-19 10:08:39,115 - DGS_BCFL - INFO -  1 数据准备完成，样本数: 2000\n",
      "2025-10-19 10:08:39,115 - DGS_BCFL - INFO -  2 数据准备完成，样本数: 2000\n",
      "2025-10-19 10:08:39,116 - DGS_BCFL - INFO -  3 数据准备完成，样本数: 2000\n",
      "2025-10-19 10:08:39,116 - DGS_BCFL - INFO -  4 数据准备完成，样本数: 2000\n",
      "2025-10-19 10:08:39,117 - DGS_BCFL - INFO -  5 数据准备完成，样本数: 2000\n"
     ]
    }
   ],
   "execution_count": 2
  },
  {
   "cell_type": "markdown",
   "id": "119b680f144592a6",
   "metadata": {},
   "source": [
    "## 开始训练"
   ]
  },
  {
   "cell_type": "code",
   "id": "5fde5c3489751dc2",
   "metadata": {
    "ExecuteTime": {
     "end_time": "2025-10-19T02:53:58.063737Z",
     "start_time": "2025-10-19T02:52:53.148820Z"
    }
   },
   "source": [
    "from owner import Owner\n",
    "from client import Client\n",
    "\n",
    "# 初始化管理者，并获得初始化字典\n",
    "owner = Owner(rotation_cycle=1, model_class=model_class)\n",
    "main_dict = owner.get_main_dict()\n",
    "\n",
    "# 初始化客户端以及身份\n",
    "clients = [owner]\n",
    "for i in range(clients_num):\n",
    "    client_name = f\"client_{i+1}\"\n",
    "    client = Client(epochs=2, client_name=client_name, data_loader=client_dataloaders[i], test_loader=client_test_loader[i], ModelClass=model_class, main_dict=main_dict)\n",
    "    owner.join(client_name)\n",
    "    clients.append(client)\n",
    "\n",
    "\n",
    "import threading\n",
    "for _ in range(max_round):\n",
    "    t = [threading.Thread(target=client.run) for client in clients]\n",
    "    _ = [i.start() for i in t]\n",
    "    _ = [i.join() for i in t]\n",
    "\n",
    "\n",
    "# 保存实验过程和结果\n",
    "import pickle\n",
    "with open(\"main_dict.pkl\", \"wb\") as f:\n",
    "    pickle.dump(main_dict, f)"
   ],
   "outputs": [
    {
     "name": "stderr",
     "output_type": "stream",
     "text": [
      "2025-10-19 10:52:58,981 - DGS_BCFL - INFO - [client_5] 当前轮次角色: learner\n",
      "2025-10-19 10:52:59,060 - DGS_BCFL - INFO - [client_6] 当前轮次角色: learner\n",
      "2025-10-19 10:52:59,785 - DGS_BCFL - INFO - [client_7] 当前轮次角色: learner\n",
      "2025-10-19 10:52:59,806 - DGS_BCFL - INFO - [client_8] 当前轮次角色: learner\n",
      "2025-10-19 10:52:59,843 - DGS_BCFL - INFO - [client_9] 当前轮次角色: learner\n",
      "2025-10-19 10:52:59,959 - DGS_BCFL - INFO - [client_10] 当前轮次角色: learner\n",
      "2025-10-19 10:53:03,720 - DGS_BCFL - INFO - [client_6] 学习者开始本地训练...\n",
      "2025-10-19 10:53:03,937 - DGS_BCFL - INFO - [client_8] 学习者开始本地训练...\n",
      "2025-10-19 10:53:04,164 - DGS_BCFL - INFO - [client_5] 学习者开始本地训练...\n",
      "2025-10-19 10:53:04,211 - DGS_BCFL - INFO - [client_9] 学习者开始本地训练...\n",
      "2025-10-19 10:53:04,363 - DGS_BCFL - INFO - [client_10] 学习者开始本地训练...\n",
      "2025-10-19 10:53:06,110 - DGS_BCFL - INFO - [client_7] 学习者开始本地训练...\n",
      "2025-10-19 10:53:03,937 - DGS_BCFL - INFO - [client_8] 学习者开始本地训练...\n",
      "2025-10-19 10:53:04,164 - DGS_BCFL - INFO - [client_5] 学习者开始本地训练...\n",
      "2025-10-19 10:53:04,363 - DGS_BCFL - INFO - [client_10] 学习者开始本地训练...\n",
      "2025-10-19 10:53:04,211 - DGS_BCFL - INFO - [client_9] 学习者开始本地训练...\n",
      "2025-10-19 10:53:04,363 - DGS_BCFL - INFO - [client_10] 学习者开始本地训练...\n",
      "2025-10-19 10:53:03,937 - DGS_BCFL - INFO - [client_8] 学习者开始本地训练...\n",
      "2025-10-19 10:53:06,110 - DGS_BCFL - INFO - [client_7] 学习者开始本地训练...\n",
      "Exception in thread Thread-176 (_pin_memory_loop):\n",
      "Traceback (most recent call last):\n",
      "  File \"/home/zyserver/miniconda3/envs/bcfl/lib/python3.12/threading.py\", line 1075, in _bootstrap_inner\n",
      "2025-10-19 10:53:33,938 - DGS_BCFL - INFO - [client_2] 当前全局模型 精度: 12.10% 损失: 2.2965\n",
      "Exception in thread Thread-179 (_pin_memory_loop):\n",
      "Traceback (most recent call last):\n",
      "  File \"/home/zyserver/miniconda3/envs/bcfl/lib/python3.12/threading.py\", line 1075, in _bootstrap_inner\n",
      "    self.run()\n",
      "  File \"/home/zyserver/miniconda3/envs/bcfl/lib/python3.12/site-packages/ipykernel/ipkernel.py\", line 772, in run_closure\n",
      "    self.run()\n",
      "  File \"/home/zyserver/miniconda3/envs/bcfl/lib/python3.12/site-packages/ipykernel/ipkernel.py\", line 772, in run_closure\n",
      "    _threading_Thread_run(self)\n",
      "  File \"/home/zyserver/miniconda3/envs/bcfl/lib/python3.12/threading.py\", line 1012, in run\n",
      "    self._target(*self._args, **self._kwargs)\n",
      "  File \"/home/zyserver/miniconda3/envs/bcfl/lib/python3.12/site-packages/torch/utils/data/_utils/pin_memory.py\", line 61, in _pin_memory_loop\n",
      "2025-10-19 10:53:35,451 - DGS_BCFL - INFO - [client_1] 聚合者开始收集梯度...\n",
      "    do_one_step()\n",
      "  File \"/home/zyserver/miniconda3/envs/bcfl/lib/python3.12/site-packages/torch/utils/data/_utils/pin_memory.py\", line 37, in do_one_step\n",
      "    _threading_Thread_run(self)\n",
      "  File \"/home/zyserver/miniconda3/envs/bcfl/lib/python3.12/threading.py\", line 1012, in run\n",
      "    self._target(*self._args, **self._kwargs)\n",
      "  File \"/home/zyserver/miniconda3/envs/bcfl/lib/python3.12/site-packages/torch/utils/data/_utils/pin_memory.py\", line 61, in _pin_memory_loop\n",
      "    do_one_step()\n",
      "  File \"/home/zyserver/miniconda3/envs/bcfl/lib/python3.12/site-packages/torch/utils/data/_utils/pin_memory.py\", line 37, in do_one_step\n",
      "    r = in_queue.get(timeout=MP_STATUS_CHECK_INTERVAL)\n",
      "        ^^^^^^^^^^^^^^^^^^^^^^^^^^^^^^^^^^^^^^^^^^^^^^\n",
      "  File \"/home/zyserver/miniconda3/envs/bcfl/lib/python3.12/multiprocessing/queues.py\", line 122, in get\n",
      "    return _ForkingPickler.loads(res)\n",
      "           ^^^^^^^^^^^^^^^^^^^^^^^^^^\n",
      "  File \"/home/zyserver/miniconda3/envs/bcfl/lib/python3.12/site-packages/torch/multiprocessing/reductions.py\", line 541, in rebuild_storage_fd\n",
      "    r = in_queue.get(timeout=MP_STATUS_CHECK_INTERVAL)\n",
      "        ^^^^^^^^^^^^^^^^^^^^^^^^^^^^^^^^^^^^^^^^^^^^^^\n",
      "  File \"/home/zyserver/miniconda3/envs/bcfl/lib/python3.12/multiprocessing/queues.py\", line 122, in get\n",
      "    fd = df.detach()\n",
      "         ^^^^^^^^^^^\n",
      "  File \"/home/zyserver/miniconda3/envs/bcfl/lib/python3.12/multiprocessing/resource_sharer.py\", line 57, in detach\n",
      "    with _resource_sharer.get_connection(self._id) as conn:\n",
      "         ^^^^^^^^^^^^^^^^^^^^^^^^^^^^^^^^^^^^^^^^^\n",
      "  File \"/home/zyserver/miniconda3/envs/bcfl/lib/python3.12/multiprocessing/resource_sharer.py\", line 86, in get_connection\n",
      "    return _ForkingPickler.loads(res)\n",
      "           ^^^^^^^^^^^^^^^^^^^^^^^^^^\n",
      "  File \"/home/zyserver/miniconda3/envs/bcfl/lib/python3.12/site-packages/torch/multiprocessing/reductions.py\", line 541, in rebuild_storage_fd\n",
      "    c = Client(address, authkey=process.current_process().authkey)\n",
      "        ^^^^^^^^^^^^^^^^^^^^^^^^^^^^^^^^^^^^^^^^^^^^^^^^^^^^^^^^^^\n",
      "  File \"/home/zyserver/miniconda3/envs/bcfl/lib/python3.12/multiprocessing/connection.py\", line 525, in Client\n",
      "2025-10-19 10:53:40,547 - DGS_BCFL - INFO - [client_4] 当前全局模型 精度: 12.20% 损失: 2.2972\n",
      "    answer_challenge(c, authkey)\n",
      "  File \"/home/zyserver/miniconda3/envs/bcfl/lib/python3.12/multiprocessing/connection.py\", line 962, in answer_challenge\n",
      "    fd = df.detach()\n",
      "         ^^^^^^^^^^^\n",
      "  File \"/home/zyserver/miniconda3/envs/bcfl/lib/python3.12/multiprocessing/resource_sharer.py\", line 57, in detach\n",
      "    with _resource_sharer.get_connection(self._id) as conn:\n",
      "         ^^^^^^^^^^^^^^^^^^^^^^^^^^^^^^^^^^^^^^^^^\n",
      "  File \"/home/zyserver/miniconda3/envs/bcfl/lib/python3.12/multiprocessing/resource_sharer.py\", line 86, in get_connection\n",
      "    response = connection.recv_bytes(256)        # reject large message\n",
      "               ^^^^^^^^^^^^^^^^^^^^^^^^^^\n",
      "  File \"/home/zyserver/miniconda3/envs/bcfl/lib/python3.12/multiprocessing/connection.py\", line 216, in recv_bytes\n",
      "    buf = self._recv_bytes(maxlength)\n",
      "          ^^^^^^^^^^^^^^^^^^^^^^^^^^^\n",
      "  File \"/home/zyserver/miniconda3/envs/bcfl/lib/python3.12/multiprocessing/connection.py\", line 430, in _recv_bytes\n",
      "    c = Client(address, authkey=process.current_process().authkey)\n",
      "        ^^^^^^^^^^^^^^^^^^^^^^^^^^^^^^^^^^^^^^^^^^^^^^^^^^^^^^^^^^\n",
      "  File \"/home/zyserver/miniconda3/envs/bcfl/lib/python3.12/multiprocessing/connection.py\", line 525, in Client\n"
     ]
    },
    {
     "ename": "KeyboardInterrupt",
     "evalue": "",
     "output_type": "error",
     "traceback": [
      "\u001B[31m---------------------------------------------------------------------------\u001B[39m",
      "\u001B[31mKeyboardInterrupt\u001B[39m                         Traceback (most recent call last)",
      "\u001B[36mCell\u001B[39m\u001B[36m \u001B[39m\u001B[32mIn[7]\u001B[39m\u001B[32m, line 21\u001B[39m\n\u001B[32m     19\u001B[39m     t = [threading.Thread(target=client.run) \u001B[38;5;28;01mfor\u001B[39;00m client \u001B[38;5;129;01min\u001B[39;00m clients]\n\u001B[32m     20\u001B[39m     _ = [i.start() \u001B[38;5;28;01mfor\u001B[39;00m i \u001B[38;5;129;01min\u001B[39;00m t]\n\u001B[32m---> \u001B[39m\u001B[32m21\u001B[39m     _ = [\u001B[43mi\u001B[49m\u001B[43m.\u001B[49m\u001B[43mjoin\u001B[49m\u001B[43m(\u001B[49m\u001B[43m)\u001B[49m \u001B[38;5;28;01mfor\u001B[39;00m i \u001B[38;5;129;01min\u001B[39;00m t]\n\u001B[32m     24\u001B[39m \u001B[38;5;66;03m# 保存实验过程和结果\u001B[39;00m\n\u001B[32m     25\u001B[39m \u001B[38;5;28;01mimport\u001B[39;00m\u001B[38;5;250m \u001B[39m\u001B[34;01mpickle\u001B[39;00m\n",
      "\u001B[36mFile \u001B[39m\u001B[32m~/miniconda3/envs/bcfl/lib/python3.12/threading.py:1149\u001B[39m, in \u001B[36mThread.join\u001B[39m\u001B[34m(self, timeout)\u001B[39m\n\u001B[32m   1146\u001B[39m     \u001B[38;5;28;01mraise\u001B[39;00m \u001B[38;5;167;01mRuntimeError\u001B[39;00m(\u001B[33m\"\u001B[39m\u001B[33mcannot join current thread\u001B[39m\u001B[33m\"\u001B[39m)\n\u001B[32m   1148\u001B[39m \u001B[38;5;28;01mif\u001B[39;00m timeout \u001B[38;5;129;01mis\u001B[39;00m \u001B[38;5;28;01mNone\u001B[39;00m:\n\u001B[32m-> \u001B[39m\u001B[32m1149\u001B[39m     \u001B[38;5;28;43mself\u001B[39;49m\u001B[43m.\u001B[49m\u001B[43m_wait_for_tstate_lock\u001B[49m\u001B[43m(\u001B[49m\u001B[43m)\u001B[49m\n\u001B[32m   1150\u001B[39m \u001B[38;5;28;01melse\u001B[39;00m:\n\u001B[32m   1151\u001B[39m     \u001B[38;5;66;03m# the behavior of a negative timeout isn't documented, but\u001B[39;00m\n\u001B[32m   1152\u001B[39m     \u001B[38;5;66;03m# historically .join(timeout=x) for x<0 has acted as if timeout=0\u001B[39;00m\n\u001B[32m   1153\u001B[39m     \u001B[38;5;28mself\u001B[39m._wait_for_tstate_lock(timeout=\u001B[38;5;28mmax\u001B[39m(timeout, \u001B[32m0\u001B[39m))\n",
      "\u001B[36mFile \u001B[39m\u001B[32m~/miniconda3/envs/bcfl/lib/python3.12/threading.py:1169\u001B[39m, in \u001B[36mThread._wait_for_tstate_lock\u001B[39m\u001B[34m(self, block, timeout)\u001B[39m\n\u001B[32m   1166\u001B[39m     \u001B[38;5;28;01mreturn\u001B[39;00m\n\u001B[32m   1168\u001B[39m \u001B[38;5;28;01mtry\u001B[39;00m:\n\u001B[32m-> \u001B[39m\u001B[32m1169\u001B[39m     \u001B[38;5;28;01mif\u001B[39;00m \u001B[43mlock\u001B[49m\u001B[43m.\u001B[49m\u001B[43macquire\u001B[49m\u001B[43m(\u001B[49m\u001B[43mblock\u001B[49m\u001B[43m,\u001B[49m\u001B[43m \u001B[49m\u001B[43mtimeout\u001B[49m\u001B[43m)\u001B[49m:\n\u001B[32m   1170\u001B[39m         lock.release()\n\u001B[32m   1171\u001B[39m         \u001B[38;5;28mself\u001B[39m._stop()\n",
      "\u001B[31mKeyboardInterrupt\u001B[39m: "
     ]
    },
    {
     "name": "stderr",
     "output_type": "stream",
     "text": [
      "    answer_challenge(c, authkey)\n",
      "  File \"/home/zyserver/miniconda3/envs/bcfl/lib/python3.12/multiprocessing/connection.py\", line 962, in answer_challenge\n",
      "    buf = self._recv(4)\n",
      "          ^^^^^^^^^^^^^\n",
      "  File \"/home/zyserver/miniconda3/envs/bcfl/lib/python3.12/multiprocessing/connection.py\", line 395, in _recv\n",
      "    response = connection.recv_bytes(256)        # reject large message\n",
      "               ^^^^^^^^^^^^^^^^^^^^^^^^^^\n",
      "  File \"/home/zyserver/miniconda3/envs/bcfl/lib/python3.12/multiprocessing/connection.py\", line 216, in recv_bytes\n",
      "2025-10-19 10:53:47,274 - DGS_BCFL - INFO - [client_3] 当前全局模型 精度: 10.90% 损失: 2.2958\n",
      "    chunk = read(handle, remaining)\n",
      "            ^^^^^^^^^^^^^^^^^^^^^^^\n",
      "ConnectionResetError: [Errno 104] Connection reset by peer\n",
      "    buf = self._recv_bytes(maxlength)\n",
      "          ^^^^^^^^^^^^^^^^^^^^^^^^^^^\n",
      "  File \"/home/zyserver/miniconda3/envs/bcfl/lib/python3.12/multiprocessing/connection.py\", line 430, in _recv_bytes\n",
      "    buf = self._recv(4)\n",
      "          ^^^^^^^^^^^^^\n",
      "  File \"/home/zyserver/miniconda3/envs/bcfl/lib/python3.12/multiprocessing/connection.py\", line 395, in _recv\n",
      "    chunk = read(handle, remaining)\n",
      "            ^^^^^^^^^^^^^^^^^^^^^^^\n",
      "ConnectionResetError: [Errno 104] Connection reset by peer\n",
      "Exception in thread Thread-171 (run):\n",
      "Traceback (most recent call last):\n",
      "  File \"/home/zyserver/miniconda3/envs/bcfl/lib/python3.12/threading.py\", line 1075, in _bootstrap_inner\n",
      "    self.run()\n",
      "  File \"/home/zyserver/miniconda3/envs/bcfl/lib/python3.12/site-packages/ipykernel/ipkernel.py\", line 772, in run_closure\n",
      "    _threading_Thread_run(self)\n",
      "  File \"/home/zyserver/miniconda3/envs/bcfl/lib/python3.12/threading.py\", line 1012, in run\n",
      "    self._target(*self._args, **self._kwargs)\n",
      "  File \"/tmp/pycharm_project_838/DGS_BCFL/src/client.py\", line 131, in run\n",
      "    self._run_as_learner()\n",
      "  File \"/tmp/pycharm_project_838/DGS_BCFL/src/client.py\", line 220, in _run_as_learner\n",
      "    train_results = learner.train()\n",
      "                    ^^^^^^^^^^^^^^^\n",
      "  File \"/tmp/pycharm_project_838/DGS_BCFL/src/FederatedLearning/learner.py\", line 166, in train\n",
      "    for data, target in self.data_loader:\n",
      "                        ^^^^^^^^^^^^^^^^\n",
      "  File \"/home/zyserver/miniconda3/envs/bcfl/lib/python3.12/site-packages/torch/utils/data/dataloader.py\", line 734, in __next__\n",
      "Exception in thread Thread-169 (run):\n",
      "Traceback (most recent call last):\n",
      "  File \"/home/zyserver/miniconda3/envs/bcfl/lib/python3.12/threading.py\", line 1075, in _bootstrap_inner\n",
      "    data = self._next_data()\n",
      "           ^^^^^^^^^^^^^^^^^\n",
      "  File \"/home/zyserver/miniconda3/envs/bcfl/lib/python3.12/site-packages/torch/utils/data/dataloader.py\", line 1492, in _next_data\n",
      "    idx, data = self._get_data()\n",
      "                ^^^^^^^^^^^^^^^^\n",
      "  File \"/home/zyserver/miniconda3/envs/bcfl/lib/python3.12/site-packages/torch/utils/data/dataloader.py\", line 1449, in _get_data\n",
      "    raise RuntimeError(\"Pin memory thread exited unexpectedly\")\n",
      "RuntimeError: Pin memory thread exited unexpectedly\n",
      "    self.run()\n",
      "  File \"/home/zyserver/miniconda3/envs/bcfl/lib/python3.12/site-packages/ipykernel/ipkernel.py\", line 772, in run_closure\n",
      "    _threading_Thread_run(self)\n",
      "  File \"/home/zyserver/miniconda3/envs/bcfl/lib/python3.12/threading.py\", line 1012, in run\n"
     ]
    }
   ],
   "execution_count": 7
  },
  {
   "metadata": {},
   "cell_type": "markdown",
   "source": "## 计算结果可视化",
   "id": "c713b95f2db3b68c"
  },
  {
   "metadata": {},
   "cell_type": "code",
   "source": [
    "# 读取实验结果\n",
    "main_dict = pickle.load(open(\"main_dict.pkl\", \"rb\"))\n",
    "# 进行可视化"
   ],
   "id": "a49f0900bdd32a7",
   "outputs": [],
   "execution_count": null
  }
 ],
 "metadata": {
  "kernelspec": {
   "display_name": "Python 3 (ipykernel)",
   "language": "python",
   "name": "python3"
  },
  "language_info": {
   "codemirror_mode": {
    "name": "ipython",
    "version": 3
   },
   "file_extension": ".py",
   "mimetype": "text/x-python",
   "name": "python",
   "nbconvert_exporter": "python",
   "pygments_lexer": "ipython3",
   "version": "3.12.11"
  }
 },
 "nbformat": 4,
 "nbformat_minor": 5
}
